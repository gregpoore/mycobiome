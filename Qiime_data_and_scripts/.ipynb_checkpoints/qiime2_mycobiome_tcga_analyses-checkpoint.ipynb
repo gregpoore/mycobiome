{
 "cells": [
  {
   "cell_type": "markdown",
   "metadata": {},
   "source": [
    "The following conda environment for Qiime 2 was used for these analyses:\n",
    "\n",
    ">qiime2-2020.2\n",
    "\n",
    "The following commands were run using the command line interface (CLI) of Qiime 2."
   ]
  },
  {
   "cell_type": "markdown",
   "metadata": {},
   "source": [
    "# Import data"
   ]
  },
  {
   "cell_type": "code",
   "execution_count": null,
   "metadata": {},
   "outputs": [],
   "source": [
    "qiime tools import \\\n",
    "--type FeatureTable[Frequency] \\\n",
    "--input-path ./Qiime_input_data/rep200_HiSeq_Fungi_Decontam_HMS_PT.biom \\\n",
    "--input-format BIOMV100Format \\\n",
    "--output-path rep200_HiSeq_Fungi_Decontam_HMS_PT.qza"
   ]
  },
  {
   "cell_type": "code",
   "execution_count": null,
   "metadata": {},
   "outputs": [],
   "source": [
    "qiime tools import \\\n",
    "--type FeatureTable[Frequency] \\\n",
    "--input-path ./Qiime_input_data/rep200_HiSeq_Fungi_Decontam_BCM_PT.biom \\\n",
    "--input-format BIOMV100Format \\\n",
    "--output-path rep200_HiSeq_Fungi_Decontam_BCM_PT.qza"
   ]
  },
  {
   "cell_type": "code",
   "execution_count": null,
   "metadata": {},
   "outputs": [],
   "source": [
    "qiime tools import \\\n",
    "--type FeatureTable[Frequency] \\\n",
    "--input-path ./Qiime_input_data/rep200_HiSeq_Fungi_Decontam_MDA_PT.biom \\\n",
    "--input-format BIOMV100Format \\\n",
    "--output-path rep200_HiSeq_Fungi_Decontam_MDA_PT.qza"
   ]
  },
  {
   "cell_type": "code",
   "execution_count": null,
   "metadata": {},
   "outputs": [],
   "source": [
    "qiime tools import \\\n",
    "--type FeatureTable[Frequency] \\\n",
    "--input-path ./Qiime_input_data/rep200_HiSeq_Fungi_Decontam_WashU_PT.biom \\\n",
    "--input-format BIOMV100Format \\\n",
    "--output-path rep200_HiSeq_Fungi_Decontam_WashU_PT.qza"
   ]
  },
  {
   "cell_type": "code",
   "execution_count": null,
   "metadata": {},
   "outputs": [],
   "source": [
    "qiime tools import \\\n",
    "--type FeatureTable[Frequency] \\\n",
    "--input-path ./Qiime_input_data/rep200_HiSeq_Fungi_Decontam_Broad_WGS_PT.biom \\\n",
    "--input-format BIOMV100Format \\\n",
    "--output-path rep200_HiSeq_Fungi_Decontam_Broad_WGS_PT.qza"
   ]
  },
  {
   "cell_type": "code",
   "execution_count": null,
   "metadata": {},
   "outputs": [],
   "source": [
    "qiime tools import \\\n",
    " --type 'FeatureData[Taxonomy]' \\\n",
    " --input-path ./Qiime_input_data/rep200_taxa_for_qiime.txt \\\n",
    " --output-path rep200_taxonomy_fungi.qza"
   ]
  },
  {
   "cell_type": "markdown",
   "metadata": {},
   "source": [
    "# Deicode (beta diversity that does not require rarefaction)\n",
    "\n",
    "Martino et al. 2019. mSystems. See the following links:\n",
    "- https://journals.asm.org/doi/10.1128/mSystems.00016-19\n",
    "- https://forum.qiime2.org/t/robust-aitchison-pca-beta-diversity-with-deicode/8333"
   ]
  },
  {
   "cell_type": "markdown",
   "metadata": {},
   "source": [
    "### Harvard Medical School (HMS)"
   ]
  },
  {
   "cell_type": "code",
   "execution_count": null,
   "metadata": {},
   "outputs": [],
   "source": [
    "qiime deicode rpca \\\n",
    "    --i-table rep200_HiSeq_Fungi_Decontam_HMS_PT.qza \\\n",
    "    --p-min-feature-count 10 \\\n",
    "    --p-min-sample-count 500 \\\n",
    "    --o-biplot ./Deicode_outputs/deicode_ordination_HMS.qza \\\n",
    "    --o-distance-matrix ./Deicode_outputs/deicode_distance_HMS.qza"
   ]
  },
  {
   "cell_type": "code",
   "execution_count": null,
   "metadata": {},
   "outputs": [],
   "source": [
    "qiime emperor biplot \\\n",
    "    --i-biplot ./Deicode_outputs/deicode_ordination_HMS.qza \\\n",
    "    --m-sample-metadata-file ./Qiime_input_data/metaQiitaCombined_Nonzero_HMS_PT.txt \\\n",
    "    --m-feature-metadata-file rep200_taxonomy_fungi.qza \\\n",
    "    --o-visualization ./Deicode_outputs/deicode_biplot_HMS.qzv \\\n",
    "    --p-number-of-features 1"
   ]
  },
  {
   "cell_type": "code",
   "execution_count": null,
   "metadata": {},
   "outputs": [],
   "source": [
    "qiime diversity beta-group-significance \\\n",
    "    --i-distance-matrix ./Deicode_outputs/deicode_distance_HMS.qza \\\n",
    "    --m-metadata-file ./Qiime_input_data/metaQiitaCombined_Nonzero_HMS_PT.txt \\\n",
    "    --m-metadata-column investigation \\\n",
    "    --p-method permanova \\\n",
    "    --o-visualization ./Deicode_outputs/investigation_significance_wgs_pt_HMS.qzv"
   ]
  },
  {
   "cell_type": "code",
   "execution_count": null,
   "metadata": {},
   "outputs": [],
   "source": [
    "qiime diversity adonis \\\n",
    "--i-distance-matrix ./Deicode_outputs/deicode_distance_HMS.qza \\\n",
    "--m-metadata-file ./Qiime_input_data/metaQiitaCombined_Nonzero_HMS_PT.txt \\\n",
    "--p-formula \"investigation\" \\\n",
    "--p-n-jobs 16 \\\n",
    "--o-visualization ./Deicode_outputs/deicode_adonis_HMS.qzv"
   ]
  },
  {
   "cell_type": "markdown",
   "metadata": {},
   "source": [
    "### Baylor College of Medicine (BCM)"
   ]
  },
  {
   "cell_type": "code",
   "execution_count": null,
   "metadata": {},
   "outputs": [],
   "source": [
    "qiime deicode rpca \\\n",
    "    --i-table rep200_HiSeq_Fungi_Decontam_BCM_PT.qza \\\n",
    "    --p-min-feature-count 10 \\\n",
    "    --p-min-sample-count 500 \\\n",
    "    --o-biplot ./Deicode_outputs/deicode_ordination_BCM.qza \\\n",
    "    --o-distance-matrix ./Deicode_outputs/deicode_distance_BCM.qza"
   ]
  },
  {
   "cell_type": "code",
   "execution_count": null,
   "metadata": {},
   "outputs": [],
   "source": [
    "qiime emperor biplot \\\n",
    "    --i-biplot ./Deicode_outputs/deicode_ordination_BCM.qza \\\n",
    "    --m-sample-metadata-file ./Qiime_input_data/metaQiitaCombined_Nonzero_BCM_PT.txt \\\n",
    "    --m-feature-metadata-file rep200_taxonomy_fungi.qza \\\n",
    "    --o-visualization ./Deicode_outputs/deicode_biplot_BCM.qzv \\\n",
    "    --p-number-of-features 1"
   ]
  },
  {
   "cell_type": "code",
   "execution_count": null,
   "metadata": {},
   "outputs": [],
   "source": [
    "qiime diversity beta-group-significance \\\n",
    "    --i-distance-matrix ./Deicode_outputs/deicode_distance_BCM.qza \\\n",
    "    --m-metadata-file ./Qiime_input_data/metaQiitaCombined_Nonzero_BCM_PT.txt \\\n",
    "    --m-metadata-column investigation \\\n",
    "    --p-method permanova \\\n",
    "    --o-visualization ./Deicode_outputs/investigation_significance_wgs_pt_BCM.qzv"
   ]
  },
  {
   "cell_type": "code",
   "execution_count": null,
   "metadata": {},
   "outputs": [],
   "source": [
    "qiime diversity adonis \\\n",
    "--i-distance-matrix ./Deicode_outputs/deicode_distance_BCM.qza \\\n",
    "--m-metadata-file ./Qiime_input_data/metaQiitaCombined_Nonzero_BCM_PT.txt \\\n",
    "--p-formula \"investigation\" \\\n",
    "--p-n-jobs 16 \\\n",
    "--o-visualization ./Deicode_outputs/deicode_adonis_BCM.qzv"
   ]
  },
  {
   "cell_type": "markdown",
   "metadata": {},
   "source": [
    "### MD Anderson (MDA)"
   ]
  },
  {
   "cell_type": "code",
   "execution_count": null,
   "metadata": {},
   "outputs": [],
   "source": [
    "qiime deicode rpca \\\n",
    "    --i-table rep200_HiSeq_Fungi_Decontam_MDA_PT.qza \\\n",
    "    --p-min-feature-count 10 \\\n",
    "    --p-min-sample-count 500 \\\n",
    "    --o-biplot ./Deicode_outputs/deicode_ordination_MDA.qza \\\n",
    "    --o-distance-matrix ./Deicode_outputs/deicode_distance_MDA.qza"
   ]
  },
  {
   "cell_type": "code",
   "execution_count": null,
   "metadata": {},
   "outputs": [],
   "source": [
    "qiime emperor biplot \\\n",
    "    --i-biplot ./Deicode_outputs/deicode_ordination_MDA.qza \\\n",
    "    --m-sample-metadata-file ./Qiime_input_data/metaQiitaCombined_Nonzero_MDA_PT.txt \\\n",
    "    --m-feature-metadata-file rep200_taxonomy_fungi.qza \\\n",
    "    --o-visualization ./Deicode_outputs/deicode_biplot_MDA.qzv \\\n",
    "    --p-number-of-features 1"
   ]
  },
  {
   "cell_type": "code",
   "execution_count": null,
   "metadata": {},
   "outputs": [],
   "source": [
    "qiime diversity beta-group-significance \\\n",
    "    --i-distance-matrix ./Deicode_outputs/deicode_distance_MDA.qza \\\n",
    "    --m-metadata-file ./Qiime_input_data/metaQiitaCombined_Nonzero_MDA_PT.txt \\\n",
    "    --m-metadata-column investigation \\\n",
    "    --p-method permanova \\\n",
    "    --o-visualization ./Deicode_outputs/investigation_significance_wgs_pt_MDA.qzv"
   ]
  },
  {
   "cell_type": "code",
   "execution_count": null,
   "metadata": {},
   "outputs": [],
   "source": [
    "qiime diversity adonis \\\n",
    "--i-distance-matrix ./Deicode_outputs/deicode_distance_MDA.qza \\\n",
    "--m-metadata-file ./Qiime_input_data/metaQiitaCombined_Nonzero_MDA_PT.txt \\\n",
    "--p-formula \"investigation\" \\\n",
    "--p-n-jobs 16 \\\n",
    "--o-visualization ./Deicode_outputs/deicode_adonis_MDA.qzv"
   ]
  },
  {
   "cell_type": "markdown",
   "metadata": {},
   "source": [
    "### Washington University (WashU)"
   ]
  },
  {
   "cell_type": "code",
   "execution_count": null,
   "metadata": {},
   "outputs": [],
   "source": [
    "qiime deicode rpca \\\n",
    "    --i-table rep200_HiSeq_Fungi_Decontam_WashU_PT.qza \\\n",
    "    --p-min-feature-count 10 \\\n",
    "    --p-min-sample-count 500 \\\n",
    "    --o-biplot ./Deicode_outputs/deicode_ordination_WashU.qza \\\n",
    "    --o-distance-matrix ./Deicode_outputs/deicode_distance_WashU.qza"
   ]
  },
  {
   "cell_type": "code",
   "execution_count": null,
   "metadata": {},
   "outputs": [],
   "source": [
    "qiime emperor biplot \\\n",
    "    --i-biplot ./Deicode_outputs/deicode_ordination_WashU.qza \\\n",
    "    --m-sample-metadata-file ./Qiime_input_data/metaQiitaCombined_Nonzero_WashU_PT.txt \\\n",
    "    --m-feature-metadata-file rep200_taxonomy_fungi.qza \\\n",
    "    --o-visualization ./Deicode_outputs/deicode_biplot_WashU.qzv \\\n",
    "    --p-number-of-features 1"
   ]
  },
  {
   "cell_type": "code",
   "execution_count": null,
   "metadata": {},
   "outputs": [],
   "source": [
    "qiime diversity beta-group-significance \\\n",
    "    --i-distance-matrix ./Deicode_outputs/deicode_distance_WashU.qza \\\n",
    "    --m-metadata-file ./Qiime_input_data/metaQiitaCombined_Nonzero_WashU_PT.txt \\\n",
    "    --m-metadata-column investigation \\\n",
    "    --p-method permanova \\\n",
    "    --o-visualization ./Deicode_outputs/investigation_significance_wgs_pt_WashU.qzv"
   ]
  },
  {
   "cell_type": "code",
   "execution_count": null,
   "metadata": {},
   "outputs": [],
   "source": [
    "qiime diversity adonis \\\n",
    "--i-distance-matrix ./Deicode_outputs/deicode_distance_WashU.qza \\\n",
    "--m-metadata-file ./Qiime_input_data/metaQiitaCombined_Nonzero_WashU_PT.txt \\\n",
    "--p-formula \"investigation\" \\\n",
    "--p-n-jobs 16 \\\n",
    "--o-visualization ./Deicode_outputs/deicode_adonis_WashU.qzv"
   ]
  },
  {
   "cell_type": "markdown",
   "metadata": {},
   "source": [
    "### Broad Institute WGS only (Broad WGS)"
   ]
  },
  {
   "cell_type": "code",
   "execution_count": null,
   "metadata": {},
   "outputs": [],
   "source": [
    "qiime deicode rpca \\\n",
    "    --i-table rep200_HiSeq_Fungi_Decontam_Broad_WGS_PT.qza \\\n",
    "    --p-min-feature-count 10 \\\n",
    "    --p-min-sample-count 500 \\\n",
    "    --o-biplot ./Deicode_outputs/deicode_ordination_Broad_WGS.qza \\\n",
    "    --o-distance-matrix ./Deicode_outputs/deicode_distance_Broad_WGS.qza"
   ]
  },
  {
   "cell_type": "code",
   "execution_count": null,
   "metadata": {},
   "outputs": [],
   "source": [
    "qiime emperor biplot \\\n",
    "    --i-biplot ./Deicode_outputs/deicode_ordination_Broad_WGS.qza \\\n",
    "    --m-sample-metadata-file ./Qiime_input_data/metaQiitaCombined_Nonzero_Broad_WGS_PT.txt \\\n",
    "    --m-feature-metadata-file rep200_taxonomy_fungi.qza \\\n",
    "    --o-visualization ./Deicode_outputs/deicode_biplot_Broad_WGS.qzv \\\n",
    "    --p-number-of-features 1"
   ]
  },
  {
   "cell_type": "code",
   "execution_count": null,
   "metadata": {},
   "outputs": [],
   "source": [
    "qiime diversity beta-group-significance \\\n",
    "    --i-distance-matrix ./Deicode_outputs/deicode_distance_Broad_WGS.qza \\\n",
    "    --m-metadata-file ./Qiime_input_data/metaQiitaCombined_Nonzero_Broad_WGS_PT.txt \\\n",
    "    --m-metadata-column investigation \\\n",
    "    --p-method permanova \\\n",
    "    --o-visualization ./Deicode_outputs/investigation_significance_wgs_pt_Broad_WGS.qzv"
   ]
  },
  {
   "cell_type": "code",
   "execution_count": null,
   "metadata": {},
   "outputs": [],
   "source": [
    "qiime diversity adonis \\\n",
    "--i-distance-matrix ./Deicode_outputs/deicode_distance_Broad_WGS.qza \\\n",
    "--m-metadata-file ./Qiime_input_data/metaQiitaCombined_Nonzero_Broad_WGS_PT.txt \\\n",
    "--p-formula \"investigation\" \\\n",
    "--p-n-jobs 16 \\\n",
    "--o-visualization ./Deicode_outputs/deicode_adonis_Broad_WGS.qzv"
   ]
  },
  {
   "cell_type": "markdown",
   "metadata": {},
   "source": [
    "# Qiime 2 Core Metrics\n",
    "Note: Since beta diversity was calculated above using DEICODE above, we are mostly interested in the alpha diversity results. Also note that based on the sample read distribution (shown below per sequencing center) across all sequencing centers, a common rarefaction depth was selected at 5000 reads/samples (often near the 1st quartile of the sample read distribution) except for the Broad Institute, which had many fewer reads/sample on average (in that case, 2000 reads/sample were used for rarefaction)."
   ]
  },
  {
   "cell_type": "markdown",
   "metadata": {},
   "source": [
    "### Harvard Medical School (HMS)\n",
    "Note the following sample read distribution from R:\n",
    "```\n",
    "> summary(rowSums(rep200_HiSeq_Fungi_Decontam_HMS_PT))\n",
    "   Min. 1st Qu.  Median    Mean 3rd Qu.    Max. \n",
    "     15    8641   15306   21824   21885  926983 \n",
    "```"
   ]
  },
  {
   "cell_type": "code",
   "execution_count": null,
   "metadata": {},
   "outputs": [],
   "source": [
    "qiime diversity core-metrics \\\n",
    "--i-table rep200_HiSeq_Fungi_Decontam_HMS_PT.qza \\\n",
    "--p-sampling-depth 5000 \\\n",
    "--m-metadata-file ./Qiime_input_data/metaQiitaCombined_Nonzero_HMS_PT.txt \\\n",
    "--output-dir ./core_metrics_hms_5k/"
   ]
  },
  {
   "cell_type": "code",
   "execution_count": null,
   "metadata": {},
   "outputs": [],
   "source": [
    "qiime diversity alpha-group-significance \\\n",
    "--i-alpha-diversity ./core_metrics_hms_5k/observed_otus_vector.qza \\\n",
    "--m-metadata-file ./Qiime_input_data/metaQiitaCombined_Nonzero_HMS_PT.txt \\\n",
    "--o-visualization ./core_metrics_hms_5k/observed_features_vector_significance.qzv\n",
    "\n",
    "qiime diversity alpha-group-significance \\\n",
    "--i-alpha-diversity ./core_metrics_hms_5k/shannon_vector.qza \\\n",
    "--m-metadata-file ./Qiime_input_data/metaQiitaCombined_Nonzero_HMS_PT.txt \\\n",
    "--o-visualization ./core_metrics_hms_5k/shannon_vector_significance.qzv"
   ]
  },
  {
   "cell_type": "code",
   "execution_count": null,
   "metadata": {},
   "outputs": [],
   "source": [
    "qiime diversity beta-group-significance \\\n",
    "--i-distance-matrix ./core_metrics_hms_5k/jaccard_distance_matrix.qza \\\n",
    "--m-metadata-file ./Qiime_input_data/metaQiitaCombined_Nonzero_HMS_PT.txt \\\n",
    "--m-metadata-column investigation \\\n",
    "--o-visualization ./core_metrics_hms_5k/jaccard_distance_matrix_significance.qzv\n",
    "\n",
    "qiime diversity beta-group-significance \\\n",
    "--i-distance-matrix ./core_metrics_hms_5k/bray_curtis_distance_matrix.qza \\\n",
    "--m-metadata-file ./Qiime_input_data/metaQiitaCombined_Nonzero_HMS_PT.txt \\\n",
    "--m-metadata-column investigation \\\n",
    "--o-visualization ./core_metrics_hms_5k/bray_curtis_distance_matrix_significance.qzv"
   ]
  },
  {
   "cell_type": "markdown",
   "metadata": {},
   "source": [
    "### Baylor College of Medicine (BCM)\n",
    "Note the following sample read distribution from R:\n",
    "```\n",
    "> summary(rowSums(rep200_HiSeq_Fungi_Decontam_BCM_PT))\n",
    "   Min. 1st Qu.  Median    Mean 3rd Qu.    Max. \n",
    "    810    4980    8796   27543   15332  519524  \n",
    "```"
   ]
  },
  {
   "cell_type": "code",
   "execution_count": null,
   "metadata": {},
   "outputs": [],
   "source": [
    "qiime diversity core-metrics \\\n",
    "--i-table rep200_HiSeq_Fungi_Decontam_BCM_PT.qza \\\n",
    "--p-sampling-depth 5000 \\\n",
    "--m-metadata-file ./Qiime_input_data/metaQiitaCombined_Nonzero_BCM_PT.txt \\\n",
    "--output-dir ./core_metrics_bcm_5k/"
   ]
  },
  {
   "cell_type": "code",
   "execution_count": null,
   "metadata": {},
   "outputs": [],
   "source": [
    "qiime diversity alpha-group-significance \\\n",
    "--i-alpha-diversity ./core_metrics_bcm_5k/observed_otus_vector.qza \\\n",
    "--m-metadata-file ./Qiime_input_data/metaQiitaCombined_Nonzero_BCM_PT.txt \\\n",
    "--o-visualization ./core_metrics_bcm_5k/observed_features_vector_significance.qzv\n",
    "\n",
    "qiime diversity alpha-group-significance \\\n",
    "--i-alpha-diversity ./core_metrics_bcm_5k/shannon_vector.qza \\\n",
    "--m-metadata-file ./Qiime_input_data/metaQiitaCombined_Nonzero_BCM_PT.txt \\\n",
    "--o-visualization ./core_metrics_bcm_5k/shannon_vector_significance.qzv"
   ]
  },
  {
   "cell_type": "code",
   "execution_count": null,
   "metadata": {},
   "outputs": [],
   "source": [
    "qiime diversity beta-group-significance \\\n",
    "--i-distance-matrix ./core_metrics_bcm_5k/jaccard_distance_matrix.qza \\\n",
    "--m-metadata-file ./Qiime_input_data/metaQiitaCombined_Nonzero_BCM_PT.txt \\\n",
    "--m-metadata-column investigation \\\n",
    "--o-visualization ./core_metrics_bcm_5k/jaccard_distance_matrix_significance.qzv\n",
    "\n",
    "qiime diversity beta-group-significance \\\n",
    "--i-distance-matrix ./core_metrics_bcm_5k/bray_curtis_distance_matrix.qza \\\n",
    "--m-metadata-file ./Qiime_input_data/metaQiitaCombined_Nonzero_BCM_PT.txt \\\n",
    "--m-metadata-column investigation \\\n",
    "--o-visualization ./core_metrics_bcm_5k/bray_curtis_distance_matrix_significance.qzv"
   ]
  },
  {
   "cell_type": "markdown",
   "metadata": {},
   "source": [
    "### MD Anderson (MDA)\n",
    "Note the following sample read distribution from R:\n",
    "```\n",
    "> summary(rowSums(rep200_HiSeq_Fungi_Decontam_MDA_PT))\n",
    "   Min. 1st Qu.  Median    Mean 3rd Qu.    Max. \n",
    "   1392    6367   12795   14727   18058  243830 \n",
    "```"
   ]
  },
  {
   "cell_type": "code",
   "execution_count": null,
   "metadata": {},
   "outputs": [],
   "source": [
    "qiime diversity core-metrics \\\n",
    "--i-table rep200_HiSeq_Fungi_Decontam_MDA_PT.qza \\\n",
    "--p-sampling-depth 5000 \\\n",
    "--m-metadata-file ./Qiime_input_data/metaQiitaCombined_Nonzero_MDA_PT.txt \\\n",
    "--output-dir ./core_metrics_mda_5k/"
   ]
  },
  {
   "cell_type": "code",
   "execution_count": null,
   "metadata": {},
   "outputs": [],
   "source": [
    "qiime diversity alpha-group-significance \\\n",
    "--i-alpha-diversity ./core_metrics_mda_5k/observed_otus_vector.qza \\\n",
    "--m-metadata-file ./Qiime_input_data/metaQiitaCombined_Nonzero_MDA_PT.txt \\\n",
    "--o-visualization ./core_metrics_mda_5k/observed_features_vector_significance.qzv\n",
    "\n",
    "qiime diversity alpha-group-significance \\\n",
    "--i-alpha-diversity ./core_metrics_mda_5k/shannon_vector.qza \\\n",
    "--m-metadata-file ./Qiime_input_data/metaQiitaCombined_Nonzero_MDA_PT.txt \\\n",
    "--o-visualization ./core_metrics_mda_5k/shannon_vector_significance.qzv"
   ]
  },
  {
   "cell_type": "code",
   "execution_count": null,
   "metadata": {},
   "outputs": [],
   "source": [
    "qiime diversity beta-group-significance \\\n",
    "--i-distance-matrix ./core_metrics_mda_5k/jaccard_distance_matrix.qza \\\n",
    "--m-metadata-file ./Qiime_input_data/metaQiitaCombined_Nonzero_MDA_PT.txt \\\n",
    "--m-metadata-column investigation \\\n",
    "--o-visualization ./core_metrics_mda_5k/jaccard_distance_matrix_significance.qzv\n",
    "\n",
    "qiime diversity beta-group-significance \\\n",
    "--i-distance-matrix ./core_metrics_mda_5k/bray_curtis_distance_matrix.qza \\\n",
    "--m-metadata-file ./Qiime_input_data/metaQiitaCombined_Nonzero_MDA_PT.txt \\\n",
    "--m-metadata-column investigation \\\n",
    "--o-visualization ./core_metrics_mda_5k/bray_curtis_distance_matrix_significance.qzv"
   ]
  },
  {
   "cell_type": "markdown",
   "metadata": {},
   "source": [
    "### Washington University (WashU)\n",
    "Note the following sample read distribution from R:\n",
    "```\n",
    "> summary(rowSums(rep200_HiSeq_Fungi_Decontam_WashU_PT))\n",
    "   Min. 1st Qu.  Median    Mean 3rd Qu.    Max. \n",
    "    774    6144    9663   23565   16375  545278 \n",
    "```"
   ]
  },
  {
   "cell_type": "code",
   "execution_count": null,
   "metadata": {},
   "outputs": [],
   "source": [
    "qiime diversity core-metrics \\\n",
    "--i-table rep200_HiSeq_Fungi_Decontam_WashU_PT.qza \\\n",
    "--p-sampling-depth 5000 \\\n",
    "--m-metadata-file ./Qiime_input_data/metaQiitaCombined_Nonzero_WashU_PT.txt \\\n",
    "--output-dir ./core_metrics_washU_5k/"
   ]
  },
  {
   "cell_type": "code",
   "execution_count": null,
   "metadata": {},
   "outputs": [],
   "source": [
    "qiime diversity alpha-group-significance \\\n",
    "--i-alpha-diversity ./core_metrics_washU_5k/observed_otus_vector.qza \\\n",
    "--m-metadata-file ./Qiime_input_data/metaQiitaCombined_Nonzero_WashU_PT.txt \\\n",
    "--o-visualization ./core_metrics_washU_5k/observed_features_vector_significance.qzv\n",
    "\n",
    "qiime diversity alpha-group-significance \\\n",
    "--i-alpha-diversity ./core_metrics_washU_5k/shannon_vector.qza \\\n",
    "--m-metadata-file ./Qiime_input_data/metaQiitaCombined_Nonzero_WashU_PT.txt \\\n",
    "--o-visualization ./core_metrics_washU_5k/shannon_vector_significance.qzv"
   ]
  },
  {
   "cell_type": "code",
   "execution_count": null,
   "metadata": {},
   "outputs": [],
   "source": [
    "qiime diversity beta-group-significance \\\n",
    "--i-distance-matrix ./core_metrics_washU_5k/jaccard_distance_matrix.qza \\\n",
    "--m-metadata-file ./Qiime_input_data/metaQiitaCombined_Nonzero_WashU_PT.txt \\\n",
    "--m-metadata-column investigation \\\n",
    "--o-visualization ./core_metrics_washU_5k/jaccard_distance_matrix_significance.qzv\n",
    "\n",
    "qiime diversity beta-group-significance \\\n",
    "--i-distance-matrix ./core_metrics_washU_5k/bray_curtis_distance_matrix.qza \\\n",
    "--m-metadata-file ./Qiime_input_data/metaQiitaCombined_Nonzero_WashU_PT.txt \\\n",
    "--m-metadata-column investigation \\\n",
    "--o-visualization ./core_metrics_washU_5k/bray_curtis_distance_matrix_significance.qzv"
   ]
  },
  {
   "cell_type": "markdown",
   "metadata": {},
   "source": [
    "### Broad Institute WGS only (Broad WGS)\n",
    "Note the following sample read distribution from R (it is lower than the other seq centers):\n",
    "```\n",
    "> summary(rowSums(rep200_HiSeq_Fungi_Decontam_Broad_WGS_PT))\n",
    "   Min. 1st Qu.  Median    Mean 3rd Qu.    Max. \n",
    "      2    1898    3958    6354    9411  150942 \n",
    "```"
   ]
  },
  {
   "cell_type": "code",
   "execution_count": null,
   "metadata": {},
   "outputs": [],
   "source": [
    "qiime diversity core-metrics \\\n",
    "--i-table rep200_HiSeq_Fungi_Decontam_Broad_WGS_PT.qza \\\n",
    "--p-sampling-depth 2000 \\\n",
    "--m-metadata-file ./Qiime_input_data/metaQiitaCombined_Nonzero_Broad_WGS_PT.txt \\\n",
    "--output-dir ./core_metrics_broad_WGS_2k/"
   ]
  },
  {
   "cell_type": "code",
   "execution_count": null,
   "metadata": {},
   "outputs": [],
   "source": [
    "qiime diversity alpha-group-significance \\\n",
    "--i-alpha-diversity ./core_metrics_broad_WGS_2k/observed_otus_vector.qza \\\n",
    "--m-metadata-file ./Qiime_input_data/metaQiitaCombined_Nonzero_Broad_WGS_PT.txt \\\n",
    "--o-visualization ./core_metrics_broad_WGS_2k/observed_features_vector_significance.qzv\n",
    "\n",
    "qiime diversity alpha-group-significance \\\n",
    "--i-alpha-diversity ./core_metrics_broad_WGS_2k/shannon_vector.qza \\\n",
    "--m-metadata-file ./Qiime_input_data/metaQiitaCombined_Nonzero_Broad_WGS_PT.txt \\\n",
    "--o-visualization ./core_metrics_broad_WGS_2k/shannon_vector_significance.qzv"
   ]
  },
  {
   "cell_type": "code",
   "execution_count": null,
   "metadata": {},
   "outputs": [],
   "source": [
    "qiime diversity beta-group-significance \\\n",
    "--i-distance-matrix ./core_metrics_broad_WGS_2k/jaccard_distance_matrix.qza \\\n",
    "--m-metadata-file ./Qiime_input_data/metaQiitaCombined_Nonzero_Broad_WGS_PT.txt \\\n",
    "--m-metadata-column investigation \\\n",
    "--o-visualization ./core_metrics_broad_WGS_2k/jaccard_distance_matrix_significance.qzv\n",
    "\n",
    "qiime diversity beta-group-significance \\\n",
    "--i-distance-matrix ./core_metrics_broad_WGS_2k/bray_curtis_distance_matrix.qza \\\n",
    "--m-metadata-file ./Qiime_input_data/metaQiitaCombined_Nonzero_Broad_WGS_PT.txt \\\n",
    "--m-metadata-column investigation \\\n",
    "--o-visualization ./core_metrics_broad_WGS_2k/bray_curtis_distance_matrix_significance.qzv"
   ]
  },
  {
   "cell_type": "markdown",
   "metadata": {},
   "source": [
    "# Figures for the paper\n",
    "\n",
    "- Alpha diversity data (downloaded through uploading the alpha diversity .qzv files onto https://view.qiime2.org/ and downloading the raw data) will be plotted using R (see `04-Prepare-TCGA-data-for-Qiime-and-plot-alpha-diversity.R` script)\n",
    "- Emperor (https://biocore.github.io/emperor/) will be used to view the beta diversity PCoA plots (again using https://view.qiime2.org/) and capture screenshots for the PCoA figures"
   ]
  },
  {
   "cell_type": "code",
   "execution_count": null,
   "metadata": {},
   "outputs": [],
   "source": []
  },
  {
   "cell_type": "markdown",
   "metadata": {},
   "source": [
    "## Alpha and beta rarefaction template code (not done for now)"
   ]
  },
  {
   "cell_type": "code",
   "execution_count": 158,
   "metadata": {},
   "outputs": [
    {
     "name": "stdout",
     "output_type": "stream",
     "text": [
      "\u001b[32mSaved Visualization to: alpha-rarefaction-curves-20-40000.qzv/visualization.qzv\u001b[0m\r\n"
     ]
    }
   ],
   "source": [
    "qiime diversity alpha-rarefaction \\\n",
    "--i-table qiita_count_fungi_WGS_PT_HMS.qza \\\n",
    "--p-min-depth 50 \\\n",
    "--p-steps 10 \\\n",
    "--p-max-depth 50000 \\\n",
    "--m-metadata-file qiime_meta_fungi_WGS_PT_HMS.txt \\\n",
    "--verbose \\\n",
    "--output-dir alpha-rarefaction-curves-hms-10-50k.qzv"
   ]
  },
  {
   "cell_type": "code",
   "execution_count": 162,
   "metadata": {},
   "outputs": [
    {
     "name": "stdout",
     "output_type": "stream",
     "text": [
      "\u001b[32mSaved Visualization to: beta-rarefaction-braycurtis-430/visualization.qzv\u001b[0m\r\n"
     ]
    }
   ],
   "source": [
    "!qiime diversity beta-rarefaction \\\n",
    "--i-phylogeny wol_tree.qza \\\n",
    "--i-table table_noBlanks.qza \\\n",
    "--p-metric 'braycurtis' \\\n",
    "--p-clustering-method 'nj' \\\n",
    "--m-metadata-file q2_metadata_keemei.tsv \\\n",
    "--p-sampling-depth 430 \\\n",
    "--output-dir beta-rarefaction-braycurtis-430"
   ]
  }
 ],
 "metadata": {
  "kernelspec": {
   "display_name": "Python 3",
   "language": "python",
   "name": "python3"
  },
  "language_info": {
   "codemirror_mode": {
    "name": "ipython",
    "version": 3
   },
   "file_extension": ".py",
   "mimetype": "text/x-python",
   "name": "python",
   "nbconvert_exporter": "python",
   "pygments_lexer": "ipython3",
   "version": "3.5.5"
  }
 },
 "nbformat": 4,
 "nbformat_minor": 2
}
