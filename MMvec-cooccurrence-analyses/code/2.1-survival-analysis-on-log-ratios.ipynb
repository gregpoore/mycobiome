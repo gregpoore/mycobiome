{
 "cells": [
  {
   "cell_type": "code",
   "execution_count": 1,
   "metadata": {},
   "outputs": [],
   "source": [
    "library(survival)\n",
    "library(broom)\n"
   ]
  },
  {
   "cell_type": "code",
   "execution_count": 2,
   "metadata": {},
   "outputs": [
    {
     "data": {
      "text/html": [
       "<style>\n",
       ".list-inline {list-style: none; margin:0; padding: 0}\n",
       ".list-inline>li {display: inline-block}\n",
       ".list-inline>li:not(:last-child)::after {content: \"\\00b7\"; padding: 0 .5ex}\n",
       "</style>\n",
       "<ol class=list-inline><li>flr_F1_F2</li><li>blr_F1_F2</li><li>ilr_F1_F2</li><li>flr_F1_F3</li><li>blr_F1_F3</li><li>ilr_F1_F3</li><li>flr_F2_F3</li><li>blr_F2_F3</li><li>ilr_F2_F3</li></ol>\n",
       "\n",
       "<details>\n",
       "\t<summary style=display:list-item;cursor:pointer>\n",
       "\t\t<strong>Levels</strong>:\n",
       "\t</summary>\n",
       "\t<style>\n",
       "\t.list-inline {list-style: none; margin:0; padding: 0}\n",
       "\t.list-inline>li {display: inline-block}\n",
       "\t.list-inline>li:not(:last-child)::after {content: \"\\00b7\"; padding: 0 .5ex}\n",
       "\t</style>\n",
       "\t<ol class=list-inline><li>'blr_F1_F2'</li><li>'blr_F1_F3'</li><li>'blr_F2_F3'</li><li>'flr_F1_F2'</li><li>'flr_F1_F3'</li><li>'flr_F2_F3'</li><li>'ilr_F1_F2'</li><li>'ilr_F1_F3'</li><li>'ilr_F2_F3'</li></ol>\n",
       "</details>"
      ],
      "text/latex": [
       "\\begin{enumerate*}\n",
       "\\item flr\\_F1\\_F2\n",
       "\\item blr\\_F1\\_F2\n",
       "\\item ilr\\_F1\\_F2\n",
       "\\item flr\\_F1\\_F3\n",
       "\\item blr\\_F1\\_F3\n",
       "\\item ilr\\_F1\\_F3\n",
       "\\item flr\\_F2\\_F3\n",
       "\\item blr\\_F2\\_F3\n",
       "\\item ilr\\_F2\\_F3\n",
       "\\end{enumerate*}\n",
       "\n",
       "\\emph{Levels}: \\begin{enumerate*}\n",
       "\\item 'blr\\_F1\\_F2'\n",
       "\\item 'blr\\_F1\\_F3'\n",
       "\\item 'blr\\_F2\\_F3'\n",
       "\\item 'flr\\_F1\\_F2'\n",
       "\\item 'flr\\_F1\\_F3'\n",
       "\\item 'flr\\_F2\\_F3'\n",
       "\\item 'ilr\\_F1\\_F2'\n",
       "\\item 'ilr\\_F1\\_F3'\n",
       "\\item 'ilr\\_F2\\_F3'\n",
       "\\end{enumerate*}\n"
      ],
      "text/markdown": [
       "1. flr_F1_F2\n",
       "2. blr_F1_F2\n",
       "3. ilr_F1_F2\n",
       "4. flr_F1_F3\n",
       "5. blr_F1_F3\n",
       "6. ilr_F1_F3\n",
       "7. flr_F2_F3\n",
       "8. blr_F2_F3\n",
       "9. ilr_F2_F3\n",
       "\n",
       "\n",
       "\n",
       "**Levels**: 1. 'blr_F1_F2'\n",
       "2. 'blr_F1_F3'\n",
       "3. 'blr_F2_F3'\n",
       "4. 'flr_F1_F2'\n",
       "5. 'flr_F1_F3'\n",
       "6. 'flr_F2_F3'\n",
       "7. 'ilr_F1_F2'\n",
       "8. 'ilr_F1_F3'\n",
       "9. 'ilr_F2_F3'\n",
       "\n",
       "\n"
      ],
      "text/plain": [
       "[1] flr_F1_F2 blr_F1_F2 ilr_F1_F2 flr_F1_F3 blr_F1_F3 ilr_F1_F3 flr_F2_F3\n",
       "[8] blr_F2_F3 ilr_F2_F3\n",
       "9 Levels: blr_F1_F2 blr_F1_F3 blr_F2_F3 flr_F1_F2 flr_F1_F3 ... ilr_F2_F3"
      ]
     },
     "metadata": {},
     "output_type": "display_data"
    }
   ],
   "source": [
    "days_df <- read.table('../results/tables/log_ratio_comparisons/TCGA-metadata-plus-log-ratios.tsv', sep='\\t', quote=\"\", header = TRUE)\n",
    "cancer_types <- unique(days_df$TCGAStudy) \n",
    "lrs_use <- unique(days_df$log_ratio_used) \n",
    "lrs_use\n"
   ]
  },
  {
   "cell_type": "code",
   "execution_count": 3,
   "metadata": {},
   "outputs": [],
   "source": [
    "for(lr_class in lrs_use){\n",
    "    \n",
    "    days_df_lr_subset <- days_df[days_df$log_ratio_used == lr_class,]\n",
    "    \n",
    "    if(dim(days_df_lr_subset)[1] > 10){\n",
    "        if(length(unique(unlist(days_df_lr_subset[c(\"log_ratio_class\")]))) > 1){\n",
    "    fit <- survfit(Surv(OSTime, OS) ~ log_ratio_class, data=days_df_lr_subset)\n",
    "    res <- summary(fit)\n",
    "    save.df <- tidy(fit)\n",
    "\n",
    "    coxfit <- coxph(\n",
    "      Surv(OSTime, OS) ~ log_ratio_class + data_submitting_center_label , \n",
    "        data=days_df_lr_subset)\n",
    "    coxfit.df <- tidy(coxfit)}}\n",
    "\n",
    "    write.csv(save.df, file = paste(\"../results/tables/log_ratio_survival_analysis/\",lr_class,\"-all-suv-os-plot.csv\", sep = \"\"))\n",
    "    write.csv(coxfit.df, file = paste(\"../results/tables/log_ratio_survival_analysis/\",lr_class,\"-all-suv-os-cox.csv\", sep = \"\"))\n",
    "\n",
    "          \n",
    "}\n"
   ]
  },
  {
   "cell_type": "code",
   "execution_count": 10,
   "metadata": {},
   "outputs": [
    {
     "name": "stderr",
     "output_type": "stream",
     "text": [
      "Warning message in fitter(X, Y, istrat, offset, init, control, weights = weights, :\n",
      "“Ran out of iterations and did not converge”\n",
      "Warning message in fitter(X, Y, istrat, offset, init, control, weights = weights, :\n",
      "“Ran out of iterations and did not converge”\n",
      "Warning message in sqrt(diag(cox$var)):\n",
      "“NaNs produced”\n",
      "Warning message in fitter(X, Y, istrat, offset, init, control, weights = weights, :\n",
      "“Ran out of iterations and did not converge”\n",
      "Warning message in fitter(X, Y, istrat, offset, init, control, weights = weights, :\n",
      "“Ran out of iterations and did not converge”\n",
      "Warning message in sqrt(diag(cox$var)):\n",
      "“NaNs produced”\n",
      "Warning message in fitter(X, Y, istrat, offset, init, control, weights = weights, :\n",
      "“Ran out of iterations and did not converge”\n",
      "Warning message in sqrt(diag(cox$var)):\n",
      "“NaNs produced”\n",
      "Warning message in fitter(X, Y, istrat, offset, init, control, weights = weights, :\n",
      "“Ran out of iterations and did not converge”\n",
      "Warning message in fitter(X, Y, istrat, offset, init, control, weights = weights, :\n",
      "“Ran out of iterations and did not converge”\n",
      "Warning message in sqrt(diag(cox$var)):\n",
      "“NaNs produced”\n",
      "Warning message in fitter(X, Y, istrat, offset, init, control, weights = weights, :\n",
      "“Ran out of iterations and did not converge”\n",
      "Warning message in fitter(X, Y, istrat, offset, init, control, weights = weights, :\n",
      "“Ran out of iterations and did not converge”\n"
     ]
    }
   ],
   "source": [
    "for(lr_class in lrs_use){\n",
    "    \n",
    "    days_df_lr_subset <- days_df[days_df$log_ratio_used == lr_class,]\n",
    "    \n",
    "    if(dim(days_df_lr_subset)[1] > 10){\n",
    "        if(length(unique(unlist(days_df_lr_subset[c(\"log_ratio_class\")]))) > 1){\n",
    "    fit <- survfit(Surv(OSTime, OS) ~ log_ratio_class, data=days_df_lr_subset)\n",
    "    res <- summary(fit)\n",
    "    save.df <- tidy(fit)\n",
    "\n",
    "    coxfit <- coxph(\n",
    "      Surv(OSTime, OS) ~ log_ratio_class * TCGAStudy + pathologic_stage_label:log_ratio_class:TCGAStudy, \n",
    "        data=days_df_lr_subset)\n",
    "    coxfit.df <- tidy(coxfit)}}\n",
    "\n",
    "    write.csv(save.df, file = paste(\"../results/tables/log_ratio_survival_analysis/\",lr_class,\"-all-suv-os-plot-more-cov.csv\", sep = \"\"))\n",
    "    write.csv(coxfit.df, file = paste(\"../results/tables/log_ratio_survival_analysis/\",lr_class,\"-all-suv-os-cox-more-cov.csv\", sep = \"\"))\n",
    "\n",
    "          \n",
    "}\n"
   ]
  },
  {
   "cell_type": "code",
   "execution_count": 4,
   "metadata": {},
   "outputs": [],
   "source": [
    "for(lr_class in lrs_use){\n",
    "    \n",
    "    days_df_lr_subset <- days_df[days_df$log_ratio_used == lr_class,]\n",
    "    \n",
    "    if(dim(days_df_lr_subset)[1] > 10){\n",
    "        if(length(unique(unlist(days_df_lr_subset[c(\"log_ratio_class\")]))) > 1){\n",
    "    fit <- survfit(Surv(PFITime, PFI) ~ log_ratio_class, data=days_df_lr_subset)\n",
    "    res <- summary(fit)\n",
    "    save.df <- tidy(fit)\n",
    "\n",
    "    coxfit <- coxph(\n",
    "      Surv(PFITime, PFI) ~ log_ratio_class + data_submitting_center_label, \n",
    "        data=days_df_lr_subset)\n",
    "    coxfit.df <- tidy(coxfit)}}\n",
    "\n",
    "    write.csv(save.df, file = paste(\"../results/tables/log_ratio_survival_analysis/\",lr_class,\"-all-suv-pfi-plot.csv\", sep = \"\"))\n",
    "    write.csv(coxfit.df, file = paste(\"../results/tables/log_ratio_survival_analysis/\",lr_class,\"-all-suv-pfi-cox.csv\", sep = \"\"))\n",
    "\n",
    "          \n",
    "}"
   ]
  },
  {
   "cell_type": "code",
   "execution_count": null,
   "metadata": {},
   "outputs": [],
   "source": []
  },
  {
   "cell_type": "code",
   "execution_count": null,
   "metadata": {},
   "outputs": [],
   "source": []
  }
 ],
 "metadata": {
  "kernelspec": {
   "display_name": "R_3.6.0",
   "language": "R",
   "name": "ir360"
  },
  "language_info": {
   "codemirror_mode": "r",
   "file_extension": ".r",
   "mimetype": "text/x-r-source",
   "name": "R",
   "pygments_lexer": "r",
   "version": "3.6.1"
  }
 },
 "nbformat": 4,
 "nbformat_minor": 2
}
